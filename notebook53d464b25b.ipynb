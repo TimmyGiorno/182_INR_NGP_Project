{
 "cells": [
  {
   "cell_type": "markdown",
   "id": "4d92e640",
   "metadata": {
    "papermill": {
     "duration": 0.013445,
     "end_time": "2023-08-03T11:08:30.990235",
     "exception": false,
     "start_time": "2023-08-03T11:08:30.976790",
     "status": "completed"
    },
    "tags": []
   },
   "source": [
    "## Import, I/O and preprocessing 部分"
   ]
  },
  {
   "cell_type": "markdown",
   "id": "13c31ba8",
   "metadata": {
    "papermill": {
     "duration": 0.01042,
     "end_time": "2023-08-03T11:08:31.011661",
     "exception": false,
     "start_time": "2023-08-03T11:08:31.001241",
     "status": "completed"
    },
    "tags": []
   },
   "source": [
    "首先，我们观察 `train.csv` 和 `greeks.csv` 的元素组成:"
   ]
  },
  {
   "cell_type": "code",
   "execution_count": 1,
   "id": "27444d2c",
   "metadata": {
    "execution": {
     "iopub.execute_input": "2023-08-03T11:08:31.035441Z",
     "iopub.status.busy": "2023-08-03T11:08:31.034987Z",
     "iopub.status.idle": "2023-08-03T11:08:33.468416Z",
     "shell.execute_reply": "2023-08-03T11:08:33.467263Z"
    },
    "papermill": {
     "duration": 2.448847,
     "end_time": "2023-08-03T11:08:33.471315",
     "exception": false,
     "start_time": "2023-08-03T11:08:31.022468",
     "status": "completed"
    },
    "tags": []
   },
   "outputs": [
    {
     "name": "stderr",
     "output_type": "stream",
     "text": [
      "/opt/conda/lib/python3.10/site-packages/scipy/__init__.py:146: UserWarning: A NumPy version >=1.16.5 and <1.23.0 is required for this version of SciPy (detected version 1.23.5\n",
      "  warnings.warn(f\"A NumPy version >={np_minversion} and <{np_maxversion}\"\n"
     ]
    },
    {
     "name": "stdout",
     "output_type": "stream",
     "text": [
      "\n",
      "训练集概貌如下:\n",
      "             Id        AB          AF          AH         AM        AR  \\\n",
      "0  000ff2bfdfe9  0.209377  3109.03329   85.200147  22.394407  8.138688   \n",
      "1  007255e47698  0.145282   978.76416   85.200147  36.968889  8.138688   \n",
      "2  013f2bd269f5  0.470030  2635.10654   85.200147  32.360553  8.138688   \n",
      "3  043ac50845d5  0.252107  3819.65177  120.201618  77.112203  8.138688   \n",
      "4  044fb8a146ec  0.380297  3733.04844   85.200147  14.103738  8.138688   \n",
      "\n",
      "         AX        AY         AZ          BC  ...        FL        FR  \\\n",
      "0  0.699861  0.025578   9.812214    5.555634  ...  7.298162   1.73855   \n",
      "1  3.632190  0.025578  13.517790    1.229900  ...  0.173229   0.49706   \n",
      "2  6.732840  0.025578  12.824570    1.229900  ...  7.709560   0.97556   \n",
      "3  3.685344  0.025578  11.053708    1.229900  ...  6.122162   0.49706   \n",
      "4  3.942255  0.054810   3.396778  102.151980  ...  8.153058  48.50134   \n",
      "\n",
      "         FS         GB          GE            GF         GH         GI  \\\n",
      "0  0.094822  11.339138   72.611063   2003.810319  22.136229  69.834944   \n",
      "1  0.568932   9.292698   72.611063  27981.562750  29.135430  32.131996   \n",
      "2  1.198821  37.077772   88.609437  13676.957810  28.022851  35.192676   \n",
      "3  0.284466  18.529584   82.416803   2094.262452  39.948656  90.493248   \n",
      "4  0.121914  16.408728  146.109943   8524.370502  45.381316  36.262628   \n",
      "\n",
      "          GL  Class  \n",
      "0   0.120343      1  \n",
      "1  21.978000      0  \n",
      "2   0.196941      0  \n",
      "3   0.155829      0  \n",
      "4   0.096614      1  \n",
      "\n",
      "[5 rows x 58 columns]\n",
      "\n",
      "完整训练集的尺寸是 (617, 58)。\n",
      "\n",
      "训练集的元数据概貌如下:\n",
      "             Id Alpha Beta Gamma Delta    Epsilon\n",
      "0  000ff2bfdfe9     B    C     G     D  3/19/2019\n",
      "1  007255e47698     A    C     M     B    Unknown\n",
      "2  013f2bd269f5     A    C     M     B    Unknown\n",
      "3  043ac50845d5     A    C     M     B    Unknown\n",
      "4  044fb8a146ec     D    B     F     B  3/25/2020\n",
      "\n",
      "完整训练集元数据的尺寸是 (617, 6)。\n"
     ]
    }
   ],
   "source": [
    "import numpy as np \n",
    "import pandas as pd \n",
    "import os\n",
    "import matplotlib.pyplot as plt\n",
    "import seaborn as sns\n",
    "import category_encoders as ce\n",
    "from collections import Counter\n",
    "\n",
    "from sklearn.model_selection import train_test_split\n",
    "from sklearn.model_selection import KFold\n",
    "from sklearn.model_selection import cross_val_score\n",
    "from sklearn.metrics import accuracy_score\n",
    "from sklearn.model_selection import StratifiedKFold\n",
    "\n",
    "from xgboost import XGBClassifier\n",
    "from xgboost import plot_tree\n",
    "from xgboost import plot_importance\n",
    "\n",
    "'''\n",
    "for dirname, _, filenames in os.walk('/kaggle/input'):\n",
    "    for filename in filenames:\n",
    "        print(os.path.join(dirname, filename))\n",
    "'''\n",
    "        \n",
    "dataset_df = pd.read_csv(\"/kaggle/input/icr-identify-age-related-conditions/train.csv\")\n",
    "meta_dataset_df = pd.read_csv(\"/kaggle/input/icr-identify-age-related-conditions/greeks.csv\")\n",
    "\n",
    "print(\"\\n训练集概貌如下:\")\n",
    "print(dataset_df.head())\n",
    "print(\"\\n完整训练集的尺寸是 {}。\".format(dataset_df.shape))\n",
    "\n",
    "print(\"\\n训练集的元数据概貌如下:\")\n",
    "print(meta_dataset_df.head())\n",
    "print(\"\\n完整训练集元数据的尺寸是 {}。\".format(meta_dataset_df.shape))"
   ]
  },
  {
   "cell_type": "code",
   "execution_count": 2,
   "id": "1e669b99",
   "metadata": {
    "execution": {
     "iopub.execute_input": "2023-08-03T11:08:33.495541Z",
     "iopub.status.busy": "2023-08-03T11:08:33.495122Z",
     "iopub.status.idle": "2023-08-03T11:08:33.668332Z",
     "shell.execute_reply": "2023-08-03T11:08:33.667075Z"
    },
    "papermill": {
     "duration": 0.188377,
     "end_time": "2023-08-03T11:08:33.671255",
     "exception": false,
     "start_time": "2023-08-03T11:08:33.482878",
     "status": "completed"
    },
    "tags": []
   },
   "outputs": [
    {
     "data": {
      "text/html": [
       "<div>\n",
       "<style scoped>\n",
       "    .dataframe tbody tr th:only-of-type {\n",
       "        vertical-align: middle;\n",
       "    }\n",
       "\n",
       "    .dataframe tbody tr th {\n",
       "        vertical-align: top;\n",
       "    }\n",
       "\n",
       "    .dataframe thead th {\n",
       "        text-align: right;\n",
       "    }\n",
       "</style>\n",
       "<table border=\"1\" class=\"dataframe\">\n",
       "  <thead>\n",
       "    <tr style=\"text-align: right;\">\n",
       "      <th></th>\n",
       "      <th>AB</th>\n",
       "      <th>AF</th>\n",
       "      <th>AH</th>\n",
       "      <th>AM</th>\n",
       "      <th>AR</th>\n",
       "      <th>AX</th>\n",
       "      <th>AY</th>\n",
       "      <th>AZ</th>\n",
       "      <th>BC</th>\n",
       "      <th>BD</th>\n",
       "      <th>...</th>\n",
       "      <th>FL</th>\n",
       "      <th>FR</th>\n",
       "      <th>FS</th>\n",
       "      <th>GB</th>\n",
       "      <th>GE</th>\n",
       "      <th>GF</th>\n",
       "      <th>GH</th>\n",
       "      <th>GI</th>\n",
       "      <th>GL</th>\n",
       "      <th>Class</th>\n",
       "    </tr>\n",
       "  </thead>\n",
       "  <tbody>\n",
       "    <tr>\n",
       "      <th>count</th>\n",
       "      <td>617.000000</td>\n",
       "      <td>617.000000</td>\n",
       "      <td>617.000000</td>\n",
       "      <td>617.000000</td>\n",
       "      <td>617.000000</td>\n",
       "      <td>617.000000</td>\n",
       "      <td>617.000000</td>\n",
       "      <td>617.000000</td>\n",
       "      <td>617.000000</td>\n",
       "      <td>617.000000</td>\n",
       "      <td>...</td>\n",
       "      <td>616.000000</td>\n",
       "      <td>617.000000</td>\n",
       "      <td>615.000000</td>\n",
       "      <td>617.000000</td>\n",
       "      <td>617.000000</td>\n",
       "      <td>617.000000</td>\n",
       "      <td>617.000000</td>\n",
       "      <td>617.000000</td>\n",
       "      <td>616.000000</td>\n",
       "      <td>617.000000</td>\n",
       "    </tr>\n",
       "    <tr>\n",
       "      <th>mean</th>\n",
       "      <td>0.477149</td>\n",
       "      <td>3502.013221</td>\n",
       "      <td>118.624513</td>\n",
       "      <td>38.968552</td>\n",
       "      <td>10.128242</td>\n",
       "      <td>5.545576</td>\n",
       "      <td>0.060320</td>\n",
       "      <td>10.566447</td>\n",
       "      <td>8.053012</td>\n",
       "      <td>5350.388655</td>\n",
       "      <td>...</td>\n",
       "      <td>5.433199</td>\n",
       "      <td>3.533905</td>\n",
       "      <td>0.421501</td>\n",
       "      <td>20.724856</td>\n",
       "      <td>131.714987</td>\n",
       "      <td>14679.595398</td>\n",
       "      <td>31.489716</td>\n",
       "      <td>50.584437</td>\n",
       "      <td>8.530961</td>\n",
       "      <td>0.175041</td>\n",
       "    </tr>\n",
       "    <tr>\n",
       "      <th>std</th>\n",
       "      <td>0.468388</td>\n",
       "      <td>2300.322717</td>\n",
       "      <td>127.838950</td>\n",
       "      <td>69.728226</td>\n",
       "      <td>10.518877</td>\n",
       "      <td>2.551696</td>\n",
       "      <td>0.416817</td>\n",
       "      <td>4.350645</td>\n",
       "      <td>65.166943</td>\n",
       "      <td>3021.326641</td>\n",
       "      <td>...</td>\n",
       "      <td>11.496257</td>\n",
       "      <td>50.181948</td>\n",
       "      <td>1.305365</td>\n",
       "      <td>9.991907</td>\n",
       "      <td>144.181524</td>\n",
       "      <td>19352.959387</td>\n",
       "      <td>9.864239</td>\n",
       "      <td>36.266251</td>\n",
       "      <td>10.327010</td>\n",
       "      <td>0.380310</td>\n",
       "    </tr>\n",
       "    <tr>\n",
       "      <th>min</th>\n",
       "      <td>0.081187</td>\n",
       "      <td>192.593280</td>\n",
       "      <td>85.200147</td>\n",
       "      <td>3.177522</td>\n",
       "      <td>8.138688</td>\n",
       "      <td>0.699861</td>\n",
       "      <td>0.025578</td>\n",
       "      <td>3.396778</td>\n",
       "      <td>1.229900</td>\n",
       "      <td>1693.624320</td>\n",
       "      <td>...</td>\n",
       "      <td>0.173229</td>\n",
       "      <td>0.497060</td>\n",
       "      <td>0.067730</td>\n",
       "      <td>4.102182</td>\n",
       "      <td>72.611063</td>\n",
       "      <td>13.038894</td>\n",
       "      <td>9.432735</td>\n",
       "      <td>0.897628</td>\n",
       "      <td>0.001129</td>\n",
       "      <td>0.000000</td>\n",
       "    </tr>\n",
       "    <tr>\n",
       "      <th>25%</th>\n",
       "      <td>0.252107</td>\n",
       "      <td>2197.345480</td>\n",
       "      <td>85.200147</td>\n",
       "      <td>12.270314</td>\n",
       "      <td>8.138688</td>\n",
       "      <td>4.128294</td>\n",
       "      <td>0.025578</td>\n",
       "      <td>8.129580</td>\n",
       "      <td>1.229900</td>\n",
       "      <td>4155.702870</td>\n",
       "      <td>...</td>\n",
       "      <td>0.173229</td>\n",
       "      <td>0.497060</td>\n",
       "      <td>0.067730</td>\n",
       "      <td>14.036718</td>\n",
       "      <td>72.611063</td>\n",
       "      <td>2798.992584</td>\n",
       "      <td>25.034888</td>\n",
       "      <td>23.011684</td>\n",
       "      <td>0.124392</td>\n",
       "      <td>0.000000</td>\n",
       "    </tr>\n",
       "    <tr>\n",
       "      <th>50%</th>\n",
       "      <td>0.354659</td>\n",
       "      <td>3120.318960</td>\n",
       "      <td>85.200147</td>\n",
       "      <td>20.533110</td>\n",
       "      <td>8.138688</td>\n",
       "      <td>5.031912</td>\n",
       "      <td>0.025578</td>\n",
       "      <td>10.461320</td>\n",
       "      <td>1.229900</td>\n",
       "      <td>4997.960730</td>\n",
       "      <td>...</td>\n",
       "      <td>3.028141</td>\n",
       "      <td>1.131000</td>\n",
       "      <td>0.250601</td>\n",
       "      <td>18.771436</td>\n",
       "      <td>72.611063</td>\n",
       "      <td>7838.273610</td>\n",
       "      <td>30.608946</td>\n",
       "      <td>41.007968</td>\n",
       "      <td>0.337827</td>\n",
       "      <td>0.000000</td>\n",
       "    </tr>\n",
       "    <tr>\n",
       "      <th>75%</th>\n",
       "      <td>0.559763</td>\n",
       "      <td>4361.637390</td>\n",
       "      <td>113.739540</td>\n",
       "      <td>39.139886</td>\n",
       "      <td>8.138688</td>\n",
       "      <td>6.431634</td>\n",
       "      <td>0.036845</td>\n",
       "      <td>12.969516</td>\n",
       "      <td>5.081244</td>\n",
       "      <td>6035.885700</td>\n",
       "      <td>...</td>\n",
       "      <td>6.238814</td>\n",
       "      <td>1.512060</td>\n",
       "      <td>0.535067</td>\n",
       "      <td>25.608406</td>\n",
       "      <td>127.591671</td>\n",
       "      <td>19035.709240</td>\n",
       "      <td>36.863947</td>\n",
       "      <td>67.931664</td>\n",
       "      <td>21.978000</td>\n",
       "      <td>0.000000</td>\n",
       "    </tr>\n",
       "    <tr>\n",
       "      <th>max</th>\n",
       "      <td>6.161666</td>\n",
       "      <td>28688.187660</td>\n",
       "      <td>1910.123198</td>\n",
       "      <td>630.518230</td>\n",
       "      <td>178.943634</td>\n",
       "      <td>38.270880</td>\n",
       "      <td>10.315851</td>\n",
       "      <td>38.971568</td>\n",
       "      <td>1463.693448</td>\n",
       "      <td>53060.599240</td>\n",
       "      <td>...</td>\n",
       "      <td>137.932739</td>\n",
       "      <td>1244.227020</td>\n",
       "      <td>31.365763</td>\n",
       "      <td>135.781294</td>\n",
       "      <td>1497.351958</td>\n",
       "      <td>143790.071200</td>\n",
       "      <td>81.210825</td>\n",
       "      <td>191.194764</td>\n",
       "      <td>21.978000</td>\n",
       "      <td>1.000000</td>\n",
       "    </tr>\n",
       "  </tbody>\n",
       "</table>\n",
       "<p>8 rows × 56 columns</p>\n",
       "</div>"
      ],
      "text/plain": [
       "               AB            AF           AH          AM          AR  \\\n",
       "count  617.000000    617.000000   617.000000  617.000000  617.000000   \n",
       "mean     0.477149   3502.013221   118.624513   38.968552   10.128242   \n",
       "std      0.468388   2300.322717   127.838950   69.728226   10.518877   \n",
       "min      0.081187    192.593280    85.200147    3.177522    8.138688   \n",
       "25%      0.252107   2197.345480    85.200147   12.270314    8.138688   \n",
       "50%      0.354659   3120.318960    85.200147   20.533110    8.138688   \n",
       "75%      0.559763   4361.637390   113.739540   39.139886    8.138688   \n",
       "max      6.161666  28688.187660  1910.123198  630.518230  178.943634   \n",
       "\n",
       "               AX          AY          AZ           BC           BD   ...  \\\n",
       "count  617.000000  617.000000  617.000000   617.000000    617.000000  ...   \n",
       "mean     5.545576    0.060320   10.566447     8.053012   5350.388655  ...   \n",
       "std      2.551696    0.416817    4.350645    65.166943   3021.326641  ...   \n",
       "min      0.699861    0.025578    3.396778     1.229900   1693.624320  ...   \n",
       "25%      4.128294    0.025578    8.129580     1.229900   4155.702870  ...   \n",
       "50%      5.031912    0.025578   10.461320     1.229900   4997.960730  ...   \n",
       "75%      6.431634    0.036845   12.969516     5.081244   6035.885700  ...   \n",
       "max     38.270880   10.315851   38.971568  1463.693448  53060.599240  ...   \n",
       "\n",
       "               FL           FR          FS          GB           GE  \\\n",
       "count  616.000000   617.000000  615.000000  617.000000   617.000000   \n",
       "mean     5.433199     3.533905    0.421501   20.724856   131.714987   \n",
       "std     11.496257    50.181948    1.305365    9.991907   144.181524   \n",
       "min      0.173229     0.497060    0.067730    4.102182    72.611063   \n",
       "25%      0.173229     0.497060    0.067730   14.036718    72.611063   \n",
       "50%      3.028141     1.131000    0.250601   18.771436    72.611063   \n",
       "75%      6.238814     1.512060    0.535067   25.608406   127.591671   \n",
       "max    137.932739  1244.227020   31.365763  135.781294  1497.351958   \n",
       "\n",
       "                  GF          GH          GI          GL       Class  \n",
       "count     617.000000  617.000000  617.000000  616.000000  617.000000  \n",
       "mean    14679.595398   31.489716   50.584437    8.530961    0.175041  \n",
       "std     19352.959387    9.864239   36.266251   10.327010    0.380310  \n",
       "min        13.038894    9.432735    0.897628    0.001129    0.000000  \n",
       "25%      2798.992584   25.034888   23.011684    0.124392    0.000000  \n",
       "50%      7838.273610   30.608946   41.007968    0.337827    0.000000  \n",
       "75%     19035.709240   36.863947   67.931664   21.978000    0.000000  \n",
       "max    143790.071200   81.210825  191.194764   21.978000    1.000000  \n",
       "\n",
       "[8 rows x 56 columns]"
      ]
     },
     "execution_count": 2,
     "metadata": {},
     "output_type": "execute_result"
    }
   ],
   "source": [
    "dataset_df.describe()"
   ]
  },
  {
   "cell_type": "code",
   "execution_count": 3,
   "id": "76faeed8",
   "metadata": {
    "execution": {
     "iopub.execute_input": "2023-08-03T11:08:33.697466Z",
     "iopub.status.busy": "2023-08-03T11:08:33.696363Z",
     "iopub.status.idle": "2023-08-03T11:08:33.724581Z",
     "shell.execute_reply": "2023-08-03T11:08:33.723740Z"
    },
    "papermill": {
     "duration": 0.043964,
     "end_time": "2023-08-03T11:08:33.727400",
     "exception": false,
     "start_time": "2023-08-03T11:08:33.683436",
     "status": "completed"
    },
    "tags": []
   },
   "outputs": [
    {
     "name": "stdout",
     "output_type": "stream",
     "text": [
      "<class 'pandas.core.frame.DataFrame'>\n",
      "RangeIndex: 617 entries, 0 to 616\n",
      "Data columns (total 58 columns):\n",
      " #   Column  Non-Null Count  Dtype  \n",
      "---  ------  --------------  -----  \n",
      " 0   Id      617 non-null    object \n",
      " 1   AB      617 non-null    float64\n",
      " 2   AF      617 non-null    float64\n",
      " 3   AH      617 non-null    float64\n",
      " 4   AM      617 non-null    float64\n",
      " 5   AR      617 non-null    float64\n",
      " 6   AX      617 non-null    float64\n",
      " 7   AY      617 non-null    float64\n",
      " 8   AZ      617 non-null    float64\n",
      " 9   BC      617 non-null    float64\n",
      " 10  BD      617 non-null    float64\n",
      " 11  BN      617 non-null    float64\n",
      " 12  BP      617 non-null    float64\n",
      " 13  BQ      557 non-null    float64\n",
      " 14  BR      617 non-null    float64\n",
      " 15  BZ      617 non-null    float64\n",
      " 16  CB      615 non-null    float64\n",
      " 17  CC      614 non-null    float64\n",
      " 18  CD      617 non-null    float64\n",
      " 19  CF      617 non-null    float64\n",
      " 20  CH      617 non-null    float64\n",
      " 21  CL      617 non-null    float64\n",
      " 22  CR      617 non-null    float64\n",
      " 23  CS      617 non-null    float64\n",
      " 24  CU      617 non-null    float64\n",
      " 25  CW      617 non-null    float64\n",
      " 26  DA      617 non-null    float64\n",
      " 27  DE      617 non-null    float64\n",
      " 28  DF      617 non-null    float64\n",
      " 29  DH      617 non-null    float64\n",
      " 30  DI      617 non-null    float64\n",
      " 31  DL      617 non-null    float64\n",
      " 32  DN      617 non-null    float64\n",
      " 33  DU      616 non-null    float64\n",
      " 34  DV      617 non-null    float64\n",
      " 35  DY      617 non-null    float64\n",
      " 36  EB      617 non-null    float64\n",
      " 37  EE      617 non-null    float64\n",
      " 38  EG      617 non-null    float64\n",
      " 39  EH      617 non-null    float64\n",
      " 40  EJ      617 non-null    object \n",
      " 41  EL      557 non-null    float64\n",
      " 42  EP      617 non-null    float64\n",
      " 43  EU      617 non-null    float64\n",
      " 44  FC      616 non-null    float64\n",
      " 45  FD      617 non-null    float64\n",
      " 46  FE      617 non-null    float64\n",
      " 47  FI      617 non-null    float64\n",
      " 48  FL      616 non-null    float64\n",
      " 49  FR      617 non-null    float64\n",
      " 50  FS      615 non-null    float64\n",
      " 51  GB      617 non-null    float64\n",
      " 52  GE      617 non-null    float64\n",
      " 53  GF      617 non-null    float64\n",
      " 54  GH      617 non-null    float64\n",
      " 55  GI      617 non-null    float64\n",
      " 56  GL      616 non-null    float64\n",
      " 57  Class   617 non-null    int64  \n",
      "dtypes: float64(55), int64(1), object(2)\n",
      "memory usage: 279.7+ KB\n"
     ]
    }
   ],
   "source": [
    "dataset_df.info()"
   ]
  },
  {
   "cell_type": "markdown",
   "id": "8f752083",
   "metadata": {
    "papermill": {
     "duration": 0.012476,
     "end_time": "2023-08-03T11:08:33.752175",
     "exception": false,
     "start_time": "2023-08-03T11:08:33.739699",
     "status": "completed"
    },
    "tags": []
   },
   "source": [
    "数据集：58 列，其中 1 列为 ID（没有用处），一列的病与否（0/1），feature 为 56。\n",
    "\n",
    "不难发现两类数据比例严重不均衡。"
   ]
  },
  {
   "cell_type": "code",
   "execution_count": 4,
   "id": "adf82c86",
   "metadata": {
    "execution": {
     "iopub.execute_input": "2023-08-03T11:08:33.777881Z",
     "iopub.status.busy": "2023-08-03T11:08:33.777408Z",
     "iopub.status.idle": "2023-08-03T11:08:33.986524Z",
     "shell.execute_reply": "2023-08-03T11:08:33.984888Z"
    },
    "papermill": {
     "duration": 0.226907,
     "end_time": "2023-08-03T11:08:33.991056",
     "exception": false,
     "start_time": "2023-08-03T11:08:33.764149",
     "status": "completed"
    },
    "tags": []
   },
   "outputs": [
    {
     "data": {
      "text/plain": [
       "<Axes: ylabel='Class'>"
      ]
     },
     "execution_count": 4,
     "metadata": {},
     "output_type": "execute_result"
    },
    {
     "data": {
      "image/png": "[encoded data removed]",
      "text/plain": [
       "<Figure size 640x480 with 1 Axes>"
      ]
     },
     "metadata": {},
     "output_type": "display_data"
    }
   ],
   "source": [
    "plot_df = dataset_df.Class.value_counts()\n",
    "plot_df.plot(kind=\"pie\")"
   ]
  },
  {
   "cell_type": "code",
   "execution_count": 5,
   "id": "4094027f",
   "metadata": {
    "execution": {
     "iopub.execute_input": "2023-08-03T11:08:34.046578Z",
     "iopub.status.busy": "2023-08-03T11:08:34.045579Z",
     "iopub.status.idle": "2023-08-03T11:09:03.579843Z",
     "shell.execute_reply": "2023-08-03T11:09:03.579127Z"
    },
    "papermill": {
     "duration": 29.564453,
     "end_time": "2023-08-03T11:09:03.582328",
     "exception": false,
     "start_time": "2023-08-03T11:08:34.017875",
     "status": "completed"
    },
    "tags": []
   },
   "outputs": [
    {
     "data": {
      "image/png": "[encoded data removed]",
      "text/plain": [
       "<Figure size 1500x1500 with 6 Axes>"
      ]
     },
     "metadata": {},
     "output_type": "display_data"
    }
   ],
   "source": [
    "# 查看 float 数据的分布。先把他们搞到一个列表里。\n",
    "NUM_FEATURE_COLUMNS = [i for i in dataset_df.columns if i not in [\"Id\", \"EJ\", \"Class\"]]\n",
    "\n",
    "# 查看前六个。\n",
    "figure, axis = plt.subplots(3, 2, figsize=(15, 15))\n",
    "plt.subplots_adjust(hspace=0.25, wspace=0.3)\n",
    "\n",
    "for i, column_name in enumerate(NUM_FEATURE_COLUMNS[:6]):\n",
    "    row = i//2\n",
    "    col = i % 2\n",
    "    bp = sns.barplot(ax=axis[row, col], x=dataset_df['Id'], y=dataset_df[column_name])\n",
    "    bp.set(xticklabels=[])\n",
    "    #bp.set_xticklabels(bp.get_xticklabels(), rotation=90, size = 7)\n",
    "    axis[row, col].set_title(column_name)\n",
    "plt.show()"
   ]
  },
  {
   "cell_type": "markdown",
   "id": "dbc1a84d",
   "metadata": {
    "papermill": {
     "duration": 0.013305,
     "end_time": "2023-08-03T11:09:03.609603",
     "exception": false,
     "start_time": "2023-08-03T11:09:03.596298",
     "status": "completed"
    },
    "tags": []
   },
   "source": [
    "可以看到这些特征里有许多样本的值是异常大的，假如使用平均法来处理缺省值，直觉上来说会发生较大误差。\n",
    "\n",
    "**TODO**: 参考 [这里](https://zhuanlan.zhihu.com/p/576512900) 想个解决办法。"
   ]
  },
  {
   "cell_type": "code",
   "execution_count": 6,
   "id": "5f2e4f07",
   "metadata": {
    "execution": {
     "iopub.execute_input": "2023-08-03T11:09:03.638628Z",
     "iopub.status.busy": "2023-08-03T11:09:03.638216Z",
     "iopub.status.idle": "2023-08-03T11:09:03.648778Z",
     "shell.execute_reply": "2023-08-03T11:09:03.647965Z"
    },
    "papermill": {
     "duration": 0.028056,
     "end_time": "2023-08-03T11:09:03.651254",
     "exception": false,
     "start_time": "2023-08-03T11:09:03.623198",
     "status": "completed"
    },
    "tags": []
   },
   "outputs": [
    {
     "name": "stdout",
     "output_type": "stream",
     "text": [
      "Summary for EJ\n",
      "B    395\n",
      "A    222\n",
      "Name: EJ, dtype: int64\n",
      "--------------------------\n"
     ]
    }
   ],
   "source": [
    "FEATURE_COLUMNS = [i for i in dataset_df.columns if i not in [\"Id\"]]\n",
    "\n",
    "dataset_df.drop(['Id'], axis=1, inplace=True)\n",
    "categorical_columns = dataset_df.select_dtypes(include=['object']).columns.tolist()\n",
    "for values in categorical_columns:\n",
    "        print(\"Summary for {0}\".format(values))\n",
    "        print(dataset_df[values].value_counts())\n",
    "        print(\"--------------------------\")"
   ]
  },
  {
   "cell_type": "code",
   "execution_count": 7,
   "id": "5c1c521e",
   "metadata": {
    "execution": {
     "iopub.execute_input": "2023-08-03T11:09:03.680555Z",
     "iopub.status.busy": "2023-08-03T11:09:03.680135Z",
     "iopub.status.idle": "2023-08-03T11:09:03.932415Z",
     "shell.execute_reply": "2023-08-03T11:09:03.931217Z"
    },
    "papermill": {
     "duration": 0.270204,
     "end_time": "2023-08-03T11:09:03.935257",
     "exception": false,
     "start_time": "2023-08-03T11:09:03.665053",
     "status": "completed"
    },
    "tags": []
   },
   "outputs": [
    {
     "data": {
      "image/png": "[encoded data removed]",
      "text/plain": [
       "<Figure size 640x480 with 1 Axes>"
      ]
     },
     "metadata": {},
     "output_type": "display_data"
    }
   ],
   "source": [
    "sns.countplot ( x = \"Class\", hue=\"EJ\", data = dataset_df )\n",
    "plt.show()"
   ]
  },
  {
   "cell_type": "markdown",
   "id": "0ff07ac1",
   "metadata": {
    "papermill": {
     "duration": 0.013512,
     "end_time": "2023-08-03T11:09:03.962841",
     "exception": false,
     "start_time": "2023-08-03T11:09:03.949329",
     "status": "completed"
    },
    "tags": []
   },
   "source": [
    "不难发现非数值类型的分布不均衡。"
   ]
  },
  {
   "cell_type": "markdown",
   "id": "e87768f2",
   "metadata": {
    "papermill": {
     "duration": 0.013571,
     "end_time": "2023-08-03T11:09:03.990488",
     "exception": false,
     "start_time": "2023-08-03T11:09:03.976917",
     "status": "completed"
    },
    "tags": []
   },
   "source": [
    "接下来，我们先简单装配一个简单的 NaN 处理。"
   ]
  },
  {
   "cell_type": "code",
   "execution_count": 8,
   "id": "abfcf2bf",
   "metadata": {
    "execution": {
     "iopub.execute_input": "2023-08-03T11:09:04.020876Z",
     "iopub.status.busy": "2023-08-03T11:09:04.019681Z",
     "iopub.status.idle": "2023-08-03T11:09:04.041055Z",
     "shell.execute_reply": "2023-08-03T11:09:04.039249Z"
    },
    "papermill": {
     "duration": 0.038962,
     "end_time": "2023-08-03T11:09:04.043398",
     "exception": false,
     "start_time": "2023-08-03T11:09:04.004436",
     "status": "completed"
    },
    "tags": []
   },
   "outputs": [
    {
     "name": "stdout",
     "output_type": "stream",
     "text": [
      "column: BQ --> 60\n",
      "column: CB --> 2\n",
      "column: CC --> 3\n",
      "column: DU --> 1\n",
      "column: EL --> 60\n",
      "column: FC --> 1\n",
      "column: FL --> 1\n",
      "column: FS --> 2\n",
      "column: GL --> 1\n"
     ]
    }
   ],
   "source": [
    "column_names = list(dataset_df.columns.values)\n",
    "\n",
    "def check_nan(column_names):\n",
    "    for column in column_names:\n",
    "        if dataset_df[column].isnull().sum() != 0:\n",
    "            print(\"column: {0} --> {1}\".format(column, dataset_df[column].isnull().sum()))\n",
    "        \n",
    "check_nan(column_names)"
   ]
  },
  {
   "cell_type": "code",
   "execution_count": 9,
   "id": "69233f1d",
   "metadata": {
    "execution": {
     "iopub.execute_input": "2023-08-03T11:09:04.073345Z",
     "iopub.status.busy": "2023-08-03T11:09:04.072714Z",
     "iopub.status.idle": "2023-08-03T11:09:04.096520Z",
     "shell.execute_reply": "2023-08-03T11:09:04.095333Z"
    },
    "papermill": {
     "duration": 0.041855,
     "end_time": "2023-08-03T11:09:04.099241",
     "exception": false,
     "start_time": "2023-08-03T11:09:04.057386",
     "status": "completed"
    },
    "tags": []
   },
   "outputs": [
    {
     "data": {
      "text/plain": [
       "False"
      ]
     },
     "execution_count": 9,
     "metadata": {},
     "output_type": "execute_result"
    }
   ],
   "source": [
    "def fill_nan(column_names):\n",
    "    for column in column_names:\n",
    "        if dataset_df[column].isnull().sum() != 0:\n",
    "            mean = dataset_df[column].mean()\n",
    "            dataset_df[column].fillna(mean, inplace = True)\n",
    "            \n",
    "fill_nan(column_names)\n",
    "dataset_df.isnull().values.any()"
   ]
  },
  {
   "cell_type": "markdown",
   "id": "0c51ace9",
   "metadata": {
    "papermill": {
     "duration": 0.013691,
     "end_time": "2023-08-03T11:09:04.127062",
     "exception": false,
     "start_time": "2023-08-03T11:09:04.113371",
     "status": "completed"
    },
    "tags": []
   },
   "source": [
    "我们切分 features 和 label。"
   ]
  },
  {
   "cell_type": "code",
   "execution_count": 10,
   "id": "313798fd",
   "metadata": {
    "execution": {
     "iopub.execute_input": "2023-08-03T11:09:04.157398Z",
     "iopub.status.busy": "2023-08-03T11:09:04.156984Z",
     "iopub.status.idle": "2023-08-03T11:09:04.163900Z",
     "shell.execute_reply": "2023-08-03T11:09:04.163120Z"
    },
    "papermill": {
     "duration": 0.025038,
     "end_time": "2023-08-03T11:09:04.166465",
     "exception": false,
     "start_time": "2023-08-03T11:09:04.141427",
     "status": "completed"
    },
    "tags": []
   },
   "outputs": [
    {
     "name": "stdout",
     "output_type": "stream",
     "text": [
      "Counter({0: 509, 1: 108})\n"
     ]
    }
   ],
   "source": [
    "X = dataset_df.iloc[:, :-1]\n",
    "y = dataset_df.iloc[:,-1]\n",
    "\n",
    "counter = Counter(y)\n",
    "print(counter)"
   ]
  },
  {
   "cell_type": "markdown",
   "id": "a347deaa",
   "metadata": {
    "papermill": {
     "duration": 0.013914,
     "end_time": "2023-08-03T11:09:04.194367",
     "exception": false,
     "start_time": "2023-08-03T11:09:04.180453",
     "status": "completed"
    },
    "tags": []
   },
   "source": [
    "One-Hot 编码，把两类别特征（Categorical feature）编码成 one-hot 编码。"
   ]
  },
  {
   "cell_type": "code",
   "execution_count": 11,
   "id": "861d8d10",
   "metadata": {
    "execution": {
     "iopub.execute_input": "2023-08-03T11:09:04.224031Z",
     "iopub.status.busy": "2023-08-03T11:09:04.223621Z",
     "iopub.status.idle": "2023-08-03T11:09:04.265246Z",
     "shell.execute_reply": "2023-08-03T11:09:04.264375Z"
    },
    "papermill": {
     "duration": 0.059008,
     "end_time": "2023-08-03T11:09:04.267398",
     "exception": false,
     "start_time": "2023-08-03T11:09:04.208390",
     "status": "completed"
    },
    "tags": []
   },
   "outputs": [
    {
     "data": {
      "text/html": [
       "<div>\n",
       "<style scoped>\n",
       "    .dataframe tbody tr th:only-of-type {\n",
       "        vertical-align: middle;\n",
       "    }\n",
       "\n",
       "    .dataframe tbody tr th {\n",
       "        vertical-align: top;\n",
       "    }\n",
       "\n",
       "    .dataframe thead th {\n",
       "        text-align: right;\n",
       "    }\n",
       "</style>\n",
       "<table border=\"1\" class=\"dataframe\">\n",
       "  <thead>\n",
       "    <tr style=\"text-align: right;\">\n",
       "      <th></th>\n",
       "      <th>AB</th>\n",
       "      <th>AF</th>\n",
       "      <th>AH</th>\n",
       "      <th>AM</th>\n",
       "      <th>AR</th>\n",
       "      <th>AX</th>\n",
       "      <th>AY</th>\n",
       "      <th>AZ</th>\n",
       "      <th>BC</th>\n",
       "      <th>BD</th>\n",
       "      <th>...</th>\n",
       "      <th>FI</th>\n",
       "      <th>FL</th>\n",
       "      <th>FR</th>\n",
       "      <th>FS</th>\n",
       "      <th>GB</th>\n",
       "      <th>GE</th>\n",
       "      <th>GF</th>\n",
       "      <th>GH</th>\n",
       "      <th>GI</th>\n",
       "      <th>GL</th>\n",
       "    </tr>\n",
       "  </thead>\n",
       "  <tbody>\n",
       "    <tr>\n",
       "      <th>0</th>\n",
       "      <td>0.209377</td>\n",
       "      <td>3109.03329</td>\n",
       "      <td>85.200147</td>\n",
       "      <td>22.394407</td>\n",
       "      <td>8.138688</td>\n",
       "      <td>0.699861</td>\n",
       "      <td>0.025578</td>\n",
       "      <td>9.812214</td>\n",
       "      <td>5.555634</td>\n",
       "      <td>4126.58731</td>\n",
       "      <td>...</td>\n",
       "      <td>3.583450</td>\n",
       "      <td>7.298162</td>\n",
       "      <td>1.73855</td>\n",
       "      <td>0.094822</td>\n",
       "      <td>11.339138</td>\n",
       "      <td>72.611063</td>\n",
       "      <td>2003.810319</td>\n",
       "      <td>22.136229</td>\n",
       "      <td>69.834944</td>\n",
       "      <td>0.120343</td>\n",
       "    </tr>\n",
       "    <tr>\n",
       "      <th>1</th>\n",
       "      <td>0.145282</td>\n",
       "      <td>978.76416</td>\n",
       "      <td>85.200147</td>\n",
       "      <td>36.968889</td>\n",
       "      <td>8.138688</td>\n",
       "      <td>3.632190</td>\n",
       "      <td>0.025578</td>\n",
       "      <td>13.517790</td>\n",
       "      <td>1.229900</td>\n",
       "      <td>5496.92824</td>\n",
       "      <td>...</td>\n",
       "      <td>10.358927</td>\n",
       "      <td>0.173229</td>\n",
       "      <td>0.49706</td>\n",
       "      <td>0.568932</td>\n",
       "      <td>9.292698</td>\n",
       "      <td>72.611063</td>\n",
       "      <td>27981.562750</td>\n",
       "      <td>29.135430</td>\n",
       "      <td>32.131996</td>\n",
       "      <td>21.978000</td>\n",
       "    </tr>\n",
       "  </tbody>\n",
       "</table>\n",
       "<p>2 rows × 57 columns</p>\n",
       "</div>"
      ],
      "text/plain": [
       "         AB          AF         AH         AM        AR        AX        AY  \\\n",
       "0  0.209377  3109.03329  85.200147  22.394407  8.138688  0.699861  0.025578   \n",
       "1  0.145282   978.76416  85.200147  36.968889  8.138688  3.632190  0.025578   \n",
       "\n",
       "          AZ        BC         BD   ...         FI        FL       FR  \\\n",
       "0   9.812214  5.555634  4126.58731  ...   3.583450  7.298162  1.73855   \n",
       "1  13.517790  1.229900  5496.92824  ...  10.358927  0.173229  0.49706   \n",
       "\n",
       "         FS         GB         GE            GF         GH         GI  \\\n",
       "0  0.094822  11.339138  72.611063   2003.810319  22.136229  69.834944   \n",
       "1  0.568932   9.292698  72.611063  27981.562750  29.135430  32.131996   \n",
       "\n",
       "          GL  \n",
       "0   0.120343  \n",
       "1  21.978000  \n",
       "\n",
       "[2 rows x 57 columns]"
      ]
     },
     "execution_count": 11,
     "metadata": {},
     "output_type": "execute_result"
    }
   ],
   "source": [
    "enc = ce.OneHotEncoder(cols=[\"EJ\"])\n",
    "enc.fit(X)\n",
    "encoded_x = enc.transform(X)\n",
    "encoded_x.head(2)"
   ]
  },
  {
   "cell_type": "markdown",
   "id": "e5ba7dc8",
   "metadata": {
    "papermill": {
     "duration": 0.014436,
     "end_time": "2023-08-03T11:09:04.296339",
     "exception": false,
     "start_time": "2023-08-03T11:09:04.281903",
     "status": "completed"
    },
    "tags": []
   },
   "source": [
    "## 模型训练部分"
   ]
  },
  {
   "cell_type": "markdown",
   "id": "7805d18c",
   "metadata": {
    "papermill": {
     "duration": 0.014008,
     "end_time": "2023-08-03T11:09:04.324908",
     "exception": false,
     "start_time": "2023-08-03T11:09:04.310900",
     "status": "completed"
    },
    "tags": []
   },
   "source": [
    "之后，我们把数据分成训练/测试集。"
   ]
  },
  {
   "cell_type": "code",
   "execution_count": 12,
   "id": "341977cd",
   "metadata": {
    "execution": {
     "iopub.execute_input": "2023-08-03T11:09:04.355730Z",
     "iopub.status.busy": "2023-08-03T11:09:04.355300Z",
     "iopub.status.idle": "2023-08-03T11:09:04.365607Z",
     "shell.execute_reply": "2023-08-03T11:09:04.364361Z"
    },
    "papermill": {
     "duration": 0.029303,
     "end_time": "2023-08-03T11:09:04.368740",
     "exception": false,
     "start_time": "2023-08-03T11:09:04.339437",
     "status": "completed"
    },
    "tags": []
   },
   "outputs": [
    {
     "name": "stdout",
     "output_type": "stream",
     "text": [
      "train y shape: (493,) and test y shape: (124,)\n"
     ]
    }
   ],
   "source": [
    "seed = 0\n",
    "test_size = 0.2\n",
    "\n",
    "X_train, X_test, y_train, y_test = train_test_split(encoded_x, y, test_size = test_size,\n",
    "                                                    random_state = seed)\n",
    "ec1_eval_set = [(X_train, y_train), (X_test, y_test)]\n",
    "\n",
    "print(\"train y shape: {0} and test y shape: {1}\".format(y_train.shape, y_test.shape))"
   ]
  },
  {
   "cell_type": "markdown",
   "id": "aaf3f633",
   "metadata": {
    "papermill": {
     "duration": 0.019244,
     "end_time": "2023-08-03T11:09:04.410518",
     "exception": false,
     "start_time": "2023-08-03T11:09:04.391274",
     "status": "completed"
    },
    "tags": []
   },
   "source": [
    "统计二分类的两类数量，不难发现 imbalanced。没病数量是有病数量的四倍。"
   ]
  },
  {
   "cell_type": "code",
   "execution_count": 13,
   "id": "41842d52",
   "metadata": {
    "execution": {
     "iopub.execute_input": "2023-08-03T11:09:04.442268Z",
     "iopub.status.busy": "2023-08-03T11:09:04.441762Z",
     "iopub.status.idle": "2023-08-03T11:09:04.448599Z",
     "shell.execute_reply": "2023-08-03T11:09:04.447431Z"
    },
    "papermill": {
     "duration": 0.025579,
     "end_time": "2023-08-03T11:09:04.450865",
     "exception": false,
     "start_time": "2023-08-03T11:09:04.425286",
     "status": "completed"
    },
    "tags": []
   },
   "outputs": [
    {
     "name": "stdout",
     "output_type": "stream",
     "text": [
      "y Estimate: 4.478\n"
     ]
    }
   ],
   "source": [
    "positive_records = y_train.sum()\n",
    "negative_records = len(y_train) - positive_records\n",
    "estimate = negative_records / positive_records\n",
    "print('y Estimate: %.3f' % estimate)"
   ]
  },
  {
   "cell_type": "code",
   "execution_count": 14,
   "id": "d611d844",
   "metadata": {
    "execution": {
     "iopub.execute_input": "2023-08-03T11:09:04.482003Z",
     "iopub.status.busy": "2023-08-03T11:09:04.481569Z",
     "iopub.status.idle": "2023-08-03T11:09:04.487802Z",
     "shell.execute_reply": "2023-08-03T11:09:04.486336Z"
    },
    "papermill": {
     "duration": 0.024655,
     "end_time": "2023-08-03T11:09:04.490340",
     "exception": false,
     "start_time": "2023-08-03T11:09:04.465685",
     "status": "completed"
    },
    "tags": []
   },
   "outputs": [],
   "source": [
    "model = XGBClassifier(colsample_bylevel = 0.6, \n",
    "                      colsample_bytree = 1.0, \n",
    "                      learning_rate = 0.3, \n",
    "                      max_depth = 2, \n",
    "                      n_estimators = 100, \n",
    "                      subsample = 1.0,   \n",
    "                      scale_pos_weight = 5)"
   ]
  },
  {
   "cell_type": "markdown",
   "id": "ac054534",
   "metadata": {
    "papermill": {
     "duration": 0.014304,
     "end_time": "2023-08-03T11:09:04.519355",
     "exception": false,
     "start_time": "2023-08-03T11:09:04.505051",
     "status": "completed"
    },
    "tags": []
   },
   "source": [
    "这里的 logloss 可能有问题，discussion 上有人讨论过。\n",
    "**TODO**：研究一下这里的 logloss 是否使用错误。"
   ]
  },
  {
   "cell_type": "code",
   "execution_count": 15,
   "id": "b0ca5b90",
   "metadata": {
    "execution": {
     "iopub.execute_input": "2023-08-03T11:09:04.550524Z",
     "iopub.status.busy": "2023-08-03T11:09:04.550086Z",
     "iopub.status.idle": "2023-08-03T11:09:04.889644Z",
     "shell.execute_reply": "2023-08-03T11:09:04.888790Z"
    },
    "papermill": {
     "duration": 0.357998,
     "end_time": "2023-08-03T11:09:04.892188",
     "exception": false,
     "start_time": "2023-08-03T11:09:04.534190",
     "status": "completed"
    },
    "tags": []
   },
   "outputs": [
    {
     "name": "stdout",
     "output_type": "stream",
     "text": [
      "[0]\tvalidation_0-error:0.29412\tvalidation_0-logloss:0.58808\tvalidation_1-error:0.44355\tvalidation_1-logloss:0.64736\n",
      "[1]\tvalidation_0-error:0.12373\tvalidation_0-logloss:0.49848\tvalidation_1-error:0.24194\tvalidation_1-logloss:0.58199\n",
      "[2]\tvalidation_0-error:0.13185\tvalidation_0-logloss:0.44767\tvalidation_1-error:0.24194\tvalidation_1-logloss:0.53391\n",
      "[3]\tvalidation_0-error:0.12576\tvalidation_0-logloss:0.39804\tvalidation_1-error:0.23387\tvalidation_1-logloss:0.49501\n",
      "[4]\tvalidation_0-error:0.09736\tvalidation_0-logloss:0.35618\tvalidation_1-error:0.19355\tvalidation_1-logloss:0.45094\n",
      "[5]\tvalidation_0-error:0.07708\tvalidation_0-logloss:0.32159\tvalidation_1-error:0.14516\tvalidation_1-logloss:0.42632\n",
      "[6]\tvalidation_0-error:0.07099\tvalidation_0-logloss:0.30280\tvalidation_1-error:0.13710\tvalidation_1-logloss:0.40379\n",
      "[7]\tvalidation_0-error:0.05882\tvalidation_0-logloss:0.28120\tvalidation_1-error:0.11290\tvalidation_1-logloss:0.38709\n",
      "[8]\tvalidation_0-error:0.05477\tvalidation_0-logloss:0.26229\tvalidation_1-error:0.12097\tvalidation_1-logloss:0.38202\n",
      "[9]\tvalidation_0-error:0.05071\tvalidation_0-logloss:0.24660\tvalidation_1-error:0.11290\tvalidation_1-logloss:0.36577\n",
      "[10]\tvalidation_0-error:0.04868\tvalidation_0-logloss:0.23019\tvalidation_1-error:0.10484\tvalidation_1-logloss:0.35071\n",
      "[11]\tvalidation_0-error:0.05274\tvalidation_0-logloss:0.21660\tvalidation_1-error:0.08871\tvalidation_1-logloss:0.34289\n",
      "[12]\tvalidation_0-error:0.04665\tvalidation_0-logloss:0.20364\tvalidation_1-error:0.08065\tvalidation_1-logloss:0.34237\n",
      "[13]\tvalidation_0-error:0.04665\tvalidation_0-logloss:0.19335\tvalidation_1-error:0.11290\tvalidation_1-logloss:0.34161\n",
      "[14]\tvalidation_0-error:0.04057\tvalidation_0-logloss:0.18261\tvalidation_1-error:0.09677\tvalidation_1-logloss:0.33422\n",
      "[15]\tvalidation_0-error:0.03448\tvalidation_0-logloss:0.17262\tvalidation_1-error:0.08065\tvalidation_1-logloss:0.33556\n",
      "[16]\tvalidation_0-error:0.03043\tvalidation_0-logloss:0.16510\tvalidation_1-error:0.08065\tvalidation_1-logloss:0.33705\n",
      "[17]\tvalidation_0-error:0.03043\tvalidation_0-logloss:0.15841\tvalidation_1-error:0.08871\tvalidation_1-logloss:0.33347\n",
      "[18]\tvalidation_0-error:0.03245\tvalidation_0-logloss:0.15172\tvalidation_1-error:0.09677\tvalidation_1-logloss:0.33277\n",
      "[19]\tvalidation_0-error:0.02434\tvalidation_0-logloss:0.14562\tvalidation_1-error:0.09677\tvalidation_1-logloss:0.33283\n",
      "[20]\tvalidation_0-error:0.02231\tvalidation_0-logloss:0.14060\tvalidation_1-error:0.08871\tvalidation_1-logloss:0.32300\n",
      "[21]\tvalidation_0-error:0.02231\tvalidation_0-logloss:0.13452\tvalidation_1-error:0.08065\tvalidation_1-logloss:0.31742\n",
      "[22]\tvalidation_0-error:0.01826\tvalidation_0-logloss:0.12782\tvalidation_1-error:0.08871\tvalidation_1-logloss:0.31013\n",
      "[23]\tvalidation_0-error:0.01826\tvalidation_0-logloss:0.11980\tvalidation_1-error:0.08871\tvalidation_1-logloss:0.30553\n",
      "[24]\tvalidation_0-error:0.01420\tvalidation_0-logloss:0.11342\tvalidation_1-error:0.08065\tvalidation_1-logloss:0.30490\n",
      "[25]\tvalidation_0-error:0.00811\tvalidation_0-logloss:0.10704\tvalidation_1-error:0.08065\tvalidation_1-logloss:0.28931\n",
      "[26]\tvalidation_0-error:0.01014\tvalidation_0-logloss:0.10330\tvalidation_1-error:0.08065\tvalidation_1-logloss:0.29237\n",
      "[27]\tvalidation_0-error:0.01217\tvalidation_0-logloss:0.09848\tvalidation_1-error:0.08065\tvalidation_1-logloss:0.29143\n",
      "[28]\tvalidation_0-error:0.00609\tvalidation_0-logloss:0.09390\tvalidation_1-error:0.08065\tvalidation_1-logloss:0.29755\n",
      "[29]\tvalidation_0-error:0.00811\tvalidation_0-logloss:0.08982\tvalidation_1-error:0.08065\tvalidation_1-logloss:0.29234\n",
      "[30]\tvalidation_0-error:0.00609\tvalidation_0-logloss:0.08689\tvalidation_1-error:0.08065\tvalidation_1-logloss:0.28937\n",
      "[31]\tvalidation_0-error:0.00609\tvalidation_0-logloss:0.08223\tvalidation_1-error:0.08065\tvalidation_1-logloss:0.28406\n",
      "[32]\tvalidation_0-error:0.00609\tvalidation_0-logloss:0.07949\tvalidation_1-error:0.08065\tvalidation_1-logloss:0.28372\n",
      "[33]\tvalidation_0-error:0.00609\tvalidation_0-logloss:0.07594\tvalidation_1-error:0.08065\tvalidation_1-logloss:0.27781\n",
      "[34]\tvalidation_0-error:0.00406\tvalidation_0-logloss:0.07320\tvalidation_1-error:0.08065\tvalidation_1-logloss:0.27534\n"
     ]
    },
    {
     "name": "stderr",
     "output_type": "stream",
     "text": [
      "/opt/conda/lib/python3.10/site-packages/xgboost/sklearn.py:835: UserWarning: `eval_metric` in `fit` method is deprecated for better compatibility with scikit-learn, use `eval_metric` in constructor or`set_params` instead.\n",
      "  warnings.warn(\n",
      "/opt/conda/lib/python3.10/site-packages/xgboost/sklearn.py:835: UserWarning: `early_stopping_rounds` in `fit` method is deprecated for better compatibility with scikit-learn, use `early_stopping_rounds` in constructor or`set_params` instead.\n",
      "  warnings.warn(\n"
     ]
    },
    {
     "name": "stdout",
     "output_type": "stream",
     "text": [
      "[35]\tvalidation_0-error:0.00406\tvalidation_0-logloss:0.07060\tvalidation_1-error:0.08065\tvalidation_1-logloss:0.27715\n",
      "[36]\tvalidation_0-error:0.00406\tvalidation_0-logloss:0.06800\tvalidation_1-error:0.08065\tvalidation_1-logloss:0.27471\n",
      "[37]\tvalidation_0-error:0.00203\tvalidation_0-logloss:0.06570\tvalidation_1-error:0.08065\tvalidation_1-logloss:0.27701\n",
      "[38]\tvalidation_0-error:0.00203\tvalidation_0-logloss:0.06301\tvalidation_1-error:0.08065\tvalidation_1-logloss:0.26919\n",
      "[39]\tvalidation_0-error:0.00203\tvalidation_0-logloss:0.06110\tvalidation_1-error:0.08065\tvalidation_1-logloss:0.26953\n",
      "[40]\tvalidation_0-error:0.00203\tvalidation_0-logloss:0.05902\tvalidation_1-error:0.08065\tvalidation_1-logloss:0.27136\n",
      "[41]\tvalidation_0-error:0.00203\tvalidation_0-logloss:0.05723\tvalidation_1-error:0.08065\tvalidation_1-logloss:0.27007\n",
      "[42]\tvalidation_0-error:0.00203\tvalidation_0-logloss:0.05447\tvalidation_1-error:0.08065\tvalidation_1-logloss:0.26840\n",
      "[43]\tvalidation_0-error:0.00203\tvalidation_0-logloss:0.05171\tvalidation_1-error:0.08065\tvalidation_1-logloss:0.26158\n",
      "[44]\tvalidation_0-error:0.00203\tvalidation_0-logloss:0.04959\tvalidation_1-error:0.08065\tvalidation_1-logloss:0.25788\n",
      "[45]\tvalidation_0-error:0.00000\tvalidation_0-logloss:0.04811\tvalidation_1-error:0.07258\tvalidation_1-logloss:0.25949\n",
      "[46]\tvalidation_0-error:0.00000\tvalidation_0-logloss:0.04666\tvalidation_1-error:0.08065\tvalidation_1-logloss:0.25713\n",
      "[47]\tvalidation_0-error:0.00000\tvalidation_0-logloss:0.04555\tvalidation_1-error:0.08065\tvalidation_1-logloss:0.26138\n",
      "[48]\tvalidation_0-error:0.00000\tvalidation_0-logloss:0.04354\tvalidation_1-error:0.08065\tvalidation_1-logloss:0.26857\n",
      "[49]\tvalidation_0-error:0.00000\tvalidation_0-logloss:0.04181\tvalidation_1-error:0.08065\tvalidation_1-logloss:0.26759\n",
      "[50]\tvalidation_0-error:0.00000\tvalidation_0-logloss:0.04000\tvalidation_1-error:0.08065\tvalidation_1-logloss:0.26794\n",
      "[51]\tvalidation_0-error:0.00000\tvalidation_0-logloss:0.03863\tvalidation_1-error:0.08065\tvalidation_1-logloss:0.26268\n",
      "[52]\tvalidation_0-error:0.00000\tvalidation_0-logloss:0.03715\tvalidation_1-error:0.08065\tvalidation_1-logloss:0.26126\n",
      "[53]\tvalidation_0-error:0.00000\tvalidation_0-logloss:0.03616\tvalidation_1-error:0.08065\tvalidation_1-logloss:0.26395\n",
      "[54]\tvalidation_0-error:0.00000\tvalidation_0-logloss:0.03471\tvalidation_1-error:0.08065\tvalidation_1-logloss:0.26047\n",
      "[55]\tvalidation_0-error:0.00000\tvalidation_0-logloss:0.03313\tvalidation_1-error:0.08065\tvalidation_1-logloss:0.25964\n"
     ]
    },
    {
     "data": {
      "text/html": [
       "<style>#sk-container-id-1 {color: black;background-color: white;}#sk-container-id-1 pre{padding: 0;}#sk-container-id-1 div.sk-toggleable {background-color: white;}#sk-container-id-1 label.sk-toggleable__label {cursor: pointer;display: block;width: 100%;margin-bottom: 0;padding: 0.3em;box-sizing: border-box;text-align: center;}#sk-container-id-1 label.sk-toggleable__label-arrow:before {content: \"▸\";float: left;margin-right: 0.25em;color: #696969;}#sk-container-id-1 label.sk-toggleable__label-arrow:hover:before {color: black;}#sk-container-id-1 div.sk-estimator:hover label.sk-toggleable__label-arrow:before {color: black;}#sk-container-id-1 div.sk-toggleable__content {max-height: 0;max-width: 0;overflow: hidden;text-align: left;background-color: #f0f8ff;}#sk-container-id-1 div.sk-toggleable__content pre {margin: 0.2em;color: black;border-radius: 0.25em;background-color: #f0f8ff;}#sk-container-id-1 input.sk-toggleable__control:checked~div.sk-toggleable__content {max-height: 200px;max-width: 100%;overflow: auto;}#sk-container-id-1 input.sk-toggleable__control:checked~label.sk-toggleable__label-arrow:before {content: \"▾\";}#sk-container-id-1 div.sk-estimator input.sk-toggleable__control:checked~label.sk-toggleable__label {background-color: #d4ebff;}#sk-container-id-1 div.sk-label input.sk-toggleable__control:checked~label.sk-toggleable__label {background-color: #d4ebff;}#sk-container-id-1 input.sk-hidden--visually {border: 0;clip: rect(1px 1px 1px 1px);clip: rect(1px, 1px, 1px, 1px);height: 1px;margin: -1px;overflow: hidden;padding: 0;position: absolute;width: 1px;}#sk-container-id-1 div.sk-estimator {font-family: monospace;background-color: #f0f8ff;border: 1px dotted black;border-radius: 0.25em;box-sizing: border-box;margin-bottom: 0.5em;}#sk-container-id-1 div.sk-estimator:hover {background-color: #d4ebff;}#sk-container-id-1 div.sk-parallel-item::after {content: \"\";width: 100%;border-bottom: 1px solid gray;flex-grow: 1;}#sk-container-id-1 div.sk-label:hover label.sk-toggleable__label {background-color: #d4ebff;}#sk-container-id-1 div.sk-serial::before {content: \"\";position: absolute;border-left: 1px solid gray;box-sizing: border-box;top: 0;bottom: 0;left: 50%;z-index: 0;}#sk-container-id-1 div.sk-serial {display: flex;flex-direction: column;align-items: center;background-color: white;padding-right: 0.2em;padding-left: 0.2em;position: relative;}#sk-container-id-1 div.sk-item {position: relative;z-index: 1;}#sk-container-id-1 div.sk-parallel {display: flex;align-items: stretch;justify-content: center;background-color: white;position: relative;}#sk-container-id-1 div.sk-item::before, #sk-container-id-1 div.sk-parallel-item::before {content: \"\";position: absolute;border-left: 1px solid gray;box-sizing: border-box;top: 0;bottom: 0;left: 50%;z-index: -1;}#sk-container-id-1 div.sk-parallel-item {display: flex;flex-direction: column;z-index: 1;position: relative;background-color: white;}#sk-container-id-1 div.sk-parallel-item:first-child::after {align-self: flex-end;width: 50%;}#sk-container-id-1 div.sk-parallel-item:last-child::after {align-self: flex-start;width: 50%;}#sk-container-id-1 div.sk-parallel-item:only-child::after {width: 0;}#sk-container-id-1 div.sk-dashed-wrapped {border: 1px dashed gray;margin: 0 0.4em 0.5em 0.4em;box-sizing: border-box;padding-bottom: 0.4em;background-color: white;}#sk-container-id-1 div.sk-label label {font-family: monospace;font-weight: bold;display: inline-block;line-height: 1.2em;}#sk-container-id-1 div.sk-label-container {text-align: center;}#sk-container-id-1 div.sk-container {/* jupyter's `normalize.less` sets `[hidden] { display: none; }` but bootstrap.min.css set `[hidden] { display: none !important; }` so we also need the `!important` here to be able to override the default hidden behavior on the sphinx rendered scikit-learn.org. See: https://github.com/scikit-learn/scikit-learn/issues/21755 */display: inline-block !important;position: relative;}#sk-container-id-1 div.sk-text-repr-fallback {display: none;}</style><div id=\"sk-container-id-1\" class=\"sk-top-container\"><div class=\"sk-text-repr-fallback\"><pre>XGBClassifier(base_score=None, booster=None, callbacks=None,\n",
       "              colsample_bylevel=0.6, colsample_bynode=None,\n",
       "              colsample_bytree=1.0, early_stopping_rounds=None,\n",
       "              enable_categorical=False, eval_metric=None, feature_types=None,\n",
       "              gamma=None, gpu_id=None, grow_policy=None, importance_type=None,\n",
       "              interaction_constraints=None, learning_rate=0.3, max_bin=None,\n",
       "              max_cat_threshold=None, max_cat_to_onehot=None,\n",
       "              max_delta_step=None, max_depth=2, max_leaves=None,\n",
       "              min_child_weight=None, missing=nan, monotone_constraints=None,\n",
       "              n_estimators=100, n_jobs=None, num_parallel_tree=None,\n",
       "              predictor=None, random_state=None, ...)</pre><b>In a Jupyter environment, please rerun this cell to show the HTML representation or trust the notebook. <br />On GitHub, the HTML representation is unable to render, please try loading this page with nbviewer.org.</b></div><div class=\"sk-container\" hidden><div class=\"sk-item\"><div class=\"sk-estimator sk-toggleable\"><input class=\"sk-toggleable__control sk-hidden--visually\" id=\"sk-estimator-id-1\" type=\"checkbox\" checked><label for=\"sk-estimator-id-1\" class=\"sk-toggleable__label sk-toggleable__label-arrow\">XGBClassifier</label><div class=\"sk-toggleable__content\"><pre>XGBClassifier(base_score=None, booster=None, callbacks=None,\n",
       "              colsample_bylevel=0.6, colsample_bynode=None,\n",
       "              colsample_bytree=1.0, early_stopping_rounds=None,\n",
       "              enable_categorical=False, eval_metric=None, feature_types=None,\n",
       "              gamma=None, gpu_id=None, grow_policy=None, importance_type=None,\n",
       "              interaction_constraints=None, learning_rate=0.3, max_bin=None,\n",
       "              max_cat_threshold=None, max_cat_to_onehot=None,\n",
       "              max_delta_step=None, max_depth=2, max_leaves=None,\n",
       "              min_child_weight=None, missing=nan, monotone_constraints=None,\n",
       "              n_estimators=100, n_jobs=None, num_parallel_tree=None,\n",
       "              predictor=None, random_state=None, ...)</pre></div></div></div></div></div>"
      ],
      "text/plain": [
       "XGBClassifier(base_score=None, booster=None, callbacks=None,\n",
       "              colsample_bylevel=0.6, colsample_bynode=None,\n",
       "              colsample_bytree=1.0, early_stopping_rounds=None,\n",
       "              enable_categorical=False, eval_metric=None, feature_types=None,\n",
       "              gamma=None, gpu_id=None, grow_policy=None, importance_type=None,\n",
       "              interaction_constraints=None, learning_rate=0.3, max_bin=None,\n",
       "              max_cat_threshold=None, max_cat_to_onehot=None,\n",
       "              max_delta_step=None, max_depth=2, max_leaves=None,\n",
       "              min_child_weight=None, missing=nan, monotone_constraints=None,\n",
       "              n_estimators=100, n_jobs=None, num_parallel_tree=None,\n",
       "              predictor=None, random_state=None, ...)"
      ]
     },
     "execution_count": 15,
     "metadata": {},
     "output_type": "execute_result"
    }
   ],
   "source": [
    "model.fit(X_train, y_train, early_stopping_rounds = 10, eval_metric = [\"error\", \"logloss\"],\n",
    "          eval_set = ec1_eval_set, verbose = True)"
   ]
  },
  {
   "cell_type": "markdown",
   "id": "852752b3",
   "metadata": {
    "papermill": {
     "duration": 0.020761,
     "end_time": "2023-08-03T11:09:04.933593",
     "exception": false,
     "start_time": "2023-08-03T11:09:04.912832",
     "status": "completed"
    },
    "tags": []
   },
   "source": [
    "K-折交叉验证，取 9 训练 1 验证，选择出具有最好的准确率的模型。"
   ]
  },
  {
   "cell_type": "code",
   "execution_count": 16,
   "id": "851c975c",
   "metadata": {
    "execution": {
     "iopub.execute_input": "2023-08-03T11:09:04.976339Z",
     "iopub.status.busy": "2023-08-03T11:09:04.975941Z",
     "iopub.status.idle": "2023-08-03T11:09:06.231688Z",
     "shell.execute_reply": "2023-08-03T11:09:06.230781Z"
    },
    "papermill": {
     "duration": 1.279934,
     "end_time": "2023-08-03T11:09:06.234357",
     "exception": false,
     "start_time": "2023-08-03T11:09:04.954423",
     "status": "completed"
    },
    "tags": []
   },
   "outputs": [
    {
     "name": "stdout",
     "output_type": "stream",
     "text": [
      "KFold - Accuracy: 93.68588048651509% (2.6552857153256966)%)\n"
     ]
    }
   ],
   "source": [
    "Kfold = KFold(n_splits = 10)\n",
    "results_K = cross_val_score(model, encoded_x, y, cv = Kfold)\n",
    "print(\"KFold - Accuracy: {0}% ({1})%)\".format(results_K.mean()*100, results_K.std()*100))"
   ]
  },
  {
   "cell_type": "markdown",
   "id": "39642740",
   "metadata": {
    "papermill": {
     "duration": 0.019936,
     "end_time": "2023-08-03T11:09:06.275457",
     "exception": false,
     "start_time": "2023-08-03T11:09:06.255521",
     "status": "completed"
    },
    "tags": []
   },
   "source": [
    "观察特征的重要性。\n",
    "**TODO**：特征工程，用重要的特征搞一些新特征出来。"
   ]
  },
  {
   "cell_type": "markdown",
   "id": "147db11b",
   "metadata": {
    "papermill": {
     "duration": 0.019938,
     "end_time": "2023-08-03T11:09:06.315981",
     "exception": false,
     "start_time": "2023-08-03T11:09:06.296043",
     "status": "completed"
    },
    "tags": []
   },
   "source": []
  },
  {
   "cell_type": "code",
   "execution_count": 17,
   "id": "8a245cee",
   "metadata": {
    "execution": {
     "iopub.execute_input": "2023-08-03T11:09:06.358406Z",
     "iopub.status.busy": "2023-08-03T11:09:06.357527Z",
     "iopub.status.idle": "2023-08-03T11:09:07.093092Z",
     "shell.execute_reply": "2023-08-03T11:09:07.091921Z"
    },
    "papermill": {
     "duration": 0.759518,
     "end_time": "2023-08-03T11:09:07.095433",
     "exception": false,
     "start_time": "2023-08-03T11:09:06.335915",
     "status": "completed"
    },
    "tags": []
   },
   "outputs": [
    {
     "data": {
      "image/png": "[encoded data removed]",
      "text/plain": [
       "<Figure size 640x480 with 1 Axes>"
      ]
     },
     "metadata": {},
     "output_type": "display_data"
    }
   ],
   "source": [
    "plot_importance(model)\n",
    "plt.show()"
   ]
  },
  {
   "cell_type": "markdown",
   "id": "9d283d67",
   "metadata": {
    "papermill": {
     "duration": 0.020321,
     "end_time": "2023-08-03T11:09:07.136496",
     "exception": false,
     "start_time": "2023-08-03T11:09:07.116175",
     "status": "completed"
    },
    "tags": []
   },
   "source": [
    "## 提交生成部分"
   ]
  },
  {
   "cell_type": "code",
   "execution_count": 18,
   "id": "0f9554ef",
   "metadata": {
    "execution": {
     "iopub.execute_input": "2023-08-03T11:09:07.180166Z",
     "iopub.status.busy": "2023-08-03T11:09:07.179773Z",
     "iopub.status.idle": "2023-08-03T11:09:07.231839Z",
     "shell.execute_reply": "2023-08-03T11:09:07.230669Z"
    },
    "papermill": {
     "duration": 0.076637,
     "end_time": "2023-08-03T11:09:07.234439",
     "exception": false,
     "start_time": "2023-08-03T11:09:07.157802",
     "status": "completed"
    },
    "tags": []
   },
   "outputs": [
    {
     "name": "stdout",
     "output_type": "stream",
     "text": [
      "             Id   AB   AF   AH   AM   AR   AX   AY   AZ   BC  ...   FI   FL  \\\n",
      "0  00eed32682bb  0.0  0.0  0.0  0.0  0.0  0.0  0.0  0.0  0.0  ...  0.0  0.0   \n",
      "1  010ebe33f668  0.0  0.0  0.0  0.0  0.0  0.0  0.0  0.0  0.0  ...  0.0  0.0   \n",
      "\n",
      "    FR   FS   GB   GE   GF   GH   GI   GL  \n",
      "0  0.0  0.0  0.0  0.0  0.0  0.0  0.0  0.0  \n",
      "1  0.0  0.0  0.0  0.0  0.0  0.0  0.0  0.0  \n",
      "\n",
      "[2 rows x 57 columns]\n",
      "False\n"
     ]
    },
    {
     "data": {
      "text/html": [
       "<div>\n",
       "<style scoped>\n",
       "    .dataframe tbody tr th:only-of-type {\n",
       "        vertical-align: middle;\n",
       "    }\n",
       "\n",
       "    .dataframe tbody tr th {\n",
       "        vertical-align: top;\n",
       "    }\n",
       "\n",
       "    .dataframe thead th {\n",
       "        text-align: right;\n",
       "    }\n",
       "</style>\n",
       "<table border=\"1\" class=\"dataframe\">\n",
       "  <thead>\n",
       "    <tr style=\"text-align: right;\">\n",
       "      <th></th>\n",
       "      <th>AB</th>\n",
       "      <th>AF</th>\n",
       "      <th>AH</th>\n",
       "      <th>AM</th>\n",
       "      <th>AR</th>\n",
       "      <th>AX</th>\n",
       "      <th>AY</th>\n",
       "      <th>AZ</th>\n",
       "      <th>BC</th>\n",
       "      <th>BD</th>\n",
       "      <th>...</th>\n",
       "      <th>FI</th>\n",
       "      <th>FL</th>\n",
       "      <th>FR</th>\n",
       "      <th>FS</th>\n",
       "      <th>GB</th>\n",
       "      <th>GE</th>\n",
       "      <th>GF</th>\n",
       "      <th>GH</th>\n",
       "      <th>GI</th>\n",
       "      <th>GL</th>\n",
       "    </tr>\n",
       "  </thead>\n",
       "  <tbody>\n",
       "    <tr>\n",
       "      <th>0</th>\n",
       "      <td>0.0</td>\n",
       "      <td>0.0</td>\n",
       "      <td>0.0</td>\n",
       "      <td>0.0</td>\n",
       "      <td>0.0</td>\n",
       "      <td>0.0</td>\n",
       "      <td>0.0</td>\n",
       "      <td>0.0</td>\n",
       "      <td>0.0</td>\n",
       "      <td>0.0</td>\n",
       "      <td>...</td>\n",
       "      <td>0.0</td>\n",
       "      <td>0.0</td>\n",
       "      <td>0.0</td>\n",
       "      <td>0.0</td>\n",
       "      <td>0.0</td>\n",
       "      <td>0.0</td>\n",
       "      <td>0.0</td>\n",
       "      <td>0.0</td>\n",
       "      <td>0.0</td>\n",
       "      <td>0.0</td>\n",
       "    </tr>\n",
       "    <tr>\n",
       "      <th>1</th>\n",
       "      <td>0.0</td>\n",
       "      <td>0.0</td>\n",
       "      <td>0.0</td>\n",
       "      <td>0.0</td>\n",
       "      <td>0.0</td>\n",
       "      <td>0.0</td>\n",
       "      <td>0.0</td>\n",
       "      <td>0.0</td>\n",
       "      <td>0.0</td>\n",
       "      <td>0.0</td>\n",
       "      <td>...</td>\n",
       "      <td>0.0</td>\n",
       "      <td>0.0</td>\n",
       "      <td>0.0</td>\n",
       "      <td>0.0</td>\n",
       "      <td>0.0</td>\n",
       "      <td>0.0</td>\n",
       "      <td>0.0</td>\n",
       "      <td>0.0</td>\n",
       "      <td>0.0</td>\n",
       "      <td>0.0</td>\n",
       "    </tr>\n",
       "  </tbody>\n",
       "</table>\n",
       "<p>2 rows × 56 columns</p>\n",
       "</div>"
      ],
      "text/plain": [
       "    AB   AF   AH   AM   AR   AX   AY   AZ   BC  BD   ...   FI   FL   FR   FS  \\\n",
       "0  0.0  0.0  0.0  0.0  0.0  0.0  0.0  0.0  0.0  0.0  ...  0.0  0.0  0.0  0.0   \n",
       "1  0.0  0.0  0.0  0.0  0.0  0.0  0.0  0.0  0.0  0.0  ...  0.0  0.0  0.0  0.0   \n",
       "\n",
       "    GB   GE   GF   GH   GI   GL  \n",
       "0  0.0  0.0  0.0  0.0  0.0  0.0  \n",
       "1  0.0  0.0  0.0  0.0  0.0  0.0  \n",
       "\n",
       "[2 rows x 56 columns]"
      ]
     },
     "execution_count": 18,
     "metadata": {},
     "output_type": "execute_result"
    }
   ],
   "source": [
    "test_df = pd.read_csv(\"/kaggle/input/icr-identify-age-related-conditions/test.csv\")\n",
    "\n",
    "print(test_df.head(2))\n",
    "print(test_df.isnull().values.any())\n",
    "\n",
    "new_test_df = test_df.drop(['Id'], axis = 1)\n",
    "new_test_df.head(2)"
   ]
  },
  {
   "cell_type": "code",
   "execution_count": 19,
   "id": "646dd6f7",
   "metadata": {
    "execution": {
     "iopub.execute_input": "2023-08-03T11:09:07.278712Z",
     "iopub.status.busy": "2023-08-03T11:09:07.278297Z",
     "iopub.status.idle": "2023-08-03T11:09:07.309341Z",
     "shell.execute_reply": "2023-08-03T11:09:07.308506Z"
    },
    "papermill": {
     "duration": 0.056144,
     "end_time": "2023-08-03T11:09:07.311661",
     "exception": false,
     "start_time": "2023-08-03T11:09:07.255517",
     "status": "completed"
    },
    "tags": []
   },
   "outputs": [
    {
     "data": {
      "text/html": [
       "<div>\n",
       "<style scoped>\n",
       "    .dataframe tbody tr th:only-of-type {\n",
       "        vertical-align: middle;\n",
       "    }\n",
       "\n",
       "    .dataframe tbody tr th {\n",
       "        vertical-align: top;\n",
       "    }\n",
       "\n",
       "    .dataframe thead th {\n",
       "        text-align: right;\n",
       "    }\n",
       "</style>\n",
       "<table border=\"1\" class=\"dataframe\">\n",
       "  <thead>\n",
       "    <tr style=\"text-align: right;\">\n",
       "      <th></th>\n",
       "      <th>AB</th>\n",
       "      <th>AF</th>\n",
       "      <th>AH</th>\n",
       "      <th>AM</th>\n",
       "      <th>AR</th>\n",
       "      <th>AX</th>\n",
       "      <th>AY</th>\n",
       "      <th>AZ</th>\n",
       "      <th>BC</th>\n",
       "      <th>BD</th>\n",
       "      <th>...</th>\n",
       "      <th>FI</th>\n",
       "      <th>FL</th>\n",
       "      <th>FR</th>\n",
       "      <th>FS</th>\n",
       "      <th>GB</th>\n",
       "      <th>GE</th>\n",
       "      <th>GF</th>\n",
       "      <th>GH</th>\n",
       "      <th>GI</th>\n",
       "      <th>GL</th>\n",
       "    </tr>\n",
       "  </thead>\n",
       "  <tbody>\n",
       "    <tr>\n",
       "      <th>0</th>\n",
       "      <td>0.0</td>\n",
       "      <td>0.0</td>\n",
       "      <td>0.0</td>\n",
       "      <td>0.0</td>\n",
       "      <td>0.0</td>\n",
       "      <td>0.0</td>\n",
       "      <td>0.0</td>\n",
       "      <td>0.0</td>\n",
       "      <td>0.0</td>\n",
       "      <td>0.0</td>\n",
       "      <td>...</td>\n",
       "      <td>0.0</td>\n",
       "      <td>0.0</td>\n",
       "      <td>0.0</td>\n",
       "      <td>0.0</td>\n",
       "      <td>0.0</td>\n",
       "      <td>0.0</td>\n",
       "      <td>0.0</td>\n",
       "      <td>0.0</td>\n",
       "      <td>0.0</td>\n",
       "      <td>0.0</td>\n",
       "    </tr>\n",
       "    <tr>\n",
       "      <th>1</th>\n",
       "      <td>0.0</td>\n",
       "      <td>0.0</td>\n",
       "      <td>0.0</td>\n",
       "      <td>0.0</td>\n",
       "      <td>0.0</td>\n",
       "      <td>0.0</td>\n",
       "      <td>0.0</td>\n",
       "      <td>0.0</td>\n",
       "      <td>0.0</td>\n",
       "      <td>0.0</td>\n",
       "      <td>...</td>\n",
       "      <td>0.0</td>\n",
       "      <td>0.0</td>\n",
       "      <td>0.0</td>\n",
       "      <td>0.0</td>\n",
       "      <td>0.0</td>\n",
       "      <td>0.0</td>\n",
       "      <td>0.0</td>\n",
       "      <td>0.0</td>\n",
       "      <td>0.0</td>\n",
       "      <td>0.0</td>\n",
       "    </tr>\n",
       "  </tbody>\n",
       "</table>\n",
       "<p>2 rows × 57 columns</p>\n",
       "</div>"
      ],
      "text/plain": [
       "    AB   AF   AH   AM   AR   AX   AY   AZ   BC  BD   ...   FI   FL   FR   FS  \\\n",
       "0  0.0  0.0  0.0  0.0  0.0  0.0  0.0  0.0  0.0  0.0  ...  0.0  0.0  0.0  0.0   \n",
       "1  0.0  0.0  0.0  0.0  0.0  0.0  0.0  0.0  0.0  0.0  ...  0.0  0.0  0.0  0.0   \n",
       "\n",
       "    GB   GE   GF   GH   GI   GL  \n",
       "0  0.0  0.0  0.0  0.0  0.0  0.0  \n",
       "1  0.0  0.0  0.0  0.0  0.0  0.0  \n",
       "\n",
       "[2 rows x 57 columns]"
      ]
     },
     "execution_count": 19,
     "metadata": {},
     "output_type": "execute_result"
    }
   ],
   "source": [
    "encoded_test_df = enc.transform(new_test_df)\n",
    "encoded_test_df.head(2)"
   ]
  },
  {
   "cell_type": "code",
   "execution_count": 20,
   "id": "d7120100",
   "metadata": {
    "execution": {
     "iopub.execute_input": "2023-08-03T11:09:07.357293Z",
     "iopub.status.busy": "2023-08-03T11:09:07.356588Z",
     "iopub.status.idle": "2023-08-03T11:09:07.377376Z",
     "shell.execute_reply": "2023-08-03T11:09:07.376328Z"
    },
    "papermill": {
     "duration": 0.046905,
     "end_time": "2023-08-03T11:09:07.380283",
     "exception": false,
     "start_time": "2023-08-03T11:09:07.333378",
     "status": "completed"
    },
    "tags": []
   },
   "outputs": [],
   "source": [
    "class_0_pred = model.predict_proba(encoded_test_df)[:,0]\n",
    "class_1_pred = model.predict_proba(encoded_test_df)[:,1]\n",
    "\n",
    "test_df[\"class_0\"] = pd.Series(class_0_pred).values\n",
    "test_df[\"class_1\"] = pd.Series(class_1_pred).values"
   ]
  },
  {
   "cell_type": "code",
   "execution_count": 21,
   "id": "c6d8571f",
   "metadata": {
    "execution": {
     "iopub.execute_input": "2023-08-03T11:09:07.427826Z",
     "iopub.status.busy": "2023-08-03T11:09:07.427427Z",
     "iopub.status.idle": "2023-08-03T11:09:07.440479Z",
     "shell.execute_reply": "2023-08-03T11:09:07.439435Z"
    },
    "papermill": {
     "duration": 0.039342,
     "end_time": "2023-08-03T11:09:07.443379",
     "exception": false,
     "start_time": "2023-08-03T11:09:07.404037",
     "status": "completed"
    },
    "tags": []
   },
   "outputs": [
    {
     "data": {
      "text/html": [
       "<div>\n",
       "<style scoped>\n",
       "    .dataframe tbody tr th:only-of-type {\n",
       "        vertical-align: middle;\n",
       "    }\n",
       "\n",
       "    .dataframe tbody tr th {\n",
       "        vertical-align: top;\n",
       "    }\n",
       "\n",
       "    .dataframe thead th {\n",
       "        text-align: right;\n",
       "    }\n",
       "</style>\n",
       "<table border=\"1\" class=\"dataframe\">\n",
       "  <thead>\n",
       "    <tr style=\"text-align: right;\">\n",
       "      <th></th>\n",
       "      <th>Id</th>\n",
       "      <th>class_0</th>\n",
       "      <th>class_1</th>\n",
       "    </tr>\n",
       "  </thead>\n",
       "  <tbody>\n",
       "    <tr>\n",
       "      <th>0</th>\n",
       "      <td>00eed32682bb</td>\n",
       "      <td>0.321698</td>\n",
       "      <td>0.678302</td>\n",
       "    </tr>\n",
       "    <tr>\n",
       "      <th>1</th>\n",
       "      <td>010ebe33f668</td>\n",
       "      <td>0.321698</td>\n",
       "      <td>0.678302</td>\n",
       "    </tr>\n",
       "    <tr>\n",
       "      <th>2</th>\n",
       "      <td>02fa521e1838</td>\n",
       "      <td>0.321698</td>\n",
       "      <td>0.678302</td>\n",
       "    </tr>\n",
       "    <tr>\n",
       "      <th>3</th>\n",
       "      <td>040e15f562a2</td>\n",
       "      <td>0.321698</td>\n",
       "      <td>0.678302</td>\n",
       "    </tr>\n",
       "    <tr>\n",
       "      <th>4</th>\n",
       "      <td>046e85c7cc7f</td>\n",
       "      <td>0.321698</td>\n",
       "      <td>0.678302</td>\n",
       "    </tr>\n",
       "  </tbody>\n",
       "</table>\n",
       "</div>"
      ],
      "text/plain": [
       "             Id   class_0   class_1\n",
       "0  00eed32682bb  0.321698  0.678302\n",
       "1  010ebe33f668  0.321698  0.678302\n",
       "2  02fa521e1838  0.321698  0.678302\n",
       "3  040e15f562a2  0.321698  0.678302\n",
       "4  046e85c7cc7f  0.321698  0.678302"
      ]
     },
     "execution_count": 21,
     "metadata": {},
     "output_type": "execute_result"
    }
   ],
   "source": [
    "submission_df = test_df[[\"Id\", \"class_0\", \"class_1\"]]\n",
    "submission_df"
   ]
  },
  {
   "cell_type": "code",
   "execution_count": 22,
   "id": "e8ca129e",
   "metadata": {
    "execution": {
     "iopub.execute_input": "2023-08-03T11:09:07.488870Z",
     "iopub.status.busy": "2023-08-03T11:09:07.488477Z",
     "iopub.status.idle": "2023-08-03T11:09:07.496917Z",
     "shell.execute_reply": "2023-08-03T11:09:07.496084Z"
    },
    "papermill": {
     "duration": 0.033689,
     "end_time": "2023-08-03T11:09:07.499218",
     "exception": false,
     "start_time": "2023-08-03T11:09:07.465529",
     "status": "completed"
    },
    "tags": []
   },
   "outputs": [],
   "source": [
    "submission_df.to_csv(\"/kaggle/working/submission.csv\", index=False)"
   ]
  }
 ],
 "metadata": {
  "kernelspec": {
   "display_name": "Python 3",
   "language": "python",
   "name": "python3"
  },
  "language_info": {
   "codemirror_mode": {
    "name": "ipython",
    "version": 3
   },
   "file_extension": ".py",
   "mimetype": "text/x-python",
   "name": "python",
   "nbconvert_exporter": "python",
   "pygments_lexer": "ipython3",
   "version": "3.10.12"
  },
  "papermill": {
   "default_parameters": {},
   "duration": 50.778475,
   "end_time": "2023-08-03T11:09:10.148313",
   "environment_variables": {},
   "exception": null,
   "input_path": "__notebook__.ipynb",
   "output_path": "__notebook__.ipynb",
   "parameters": {},
   "start_time": "2023-08-03T11:08:19.369838",
   "version": "2.4.0"
  }
 },
 "nbformat": 4,
 "nbformat_minor": 5
}
